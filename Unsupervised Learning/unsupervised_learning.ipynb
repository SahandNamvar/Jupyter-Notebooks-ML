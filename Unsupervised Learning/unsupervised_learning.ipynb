{
 "cells": [
  {
   "cell_type": "markdown",
   "id": "9f6bac78-ade9-4d24-9219-5615d1778244",
   "metadata": {},
   "source": [
    "# Unsupervised Learning in Python\n",
    "\n",
    "Say you have a collection of customers with a variety of characteristics such as age, location, and financial history, and you wish to discover patterns and sort them into clusters. Or perhaps you have a set of texts, such as Wikipedia pages, and you wish to segment them into categories based on their content. This is the world of unsupervised learning, called as such because you are not guiding, or supervising, the pattern discovery by some prediction task, but instead uncovering hidden structure from unlabeled data. Unsupervised learning encompasses a variety of techniques in machine learning, from clustering to dimension reduction to matrix factorization. In this course, you'll learn the fundamentals of unsupervised learning and implement the essential algorithms using scikit-learn and SciPy. You will learn how to cluster, transform, visualize, and extract insights from unlabeled datasets, and end the course by building a recommender system to recommend popular musical artists."
   ]
  },
  {
   "cell_type": "markdown",
   "id": "e5e07897-d620-4367-a2ae-130e9c9ad62b",
   "metadata": {},
   "source": [
    "## Clustering for Dataset Exploration\n",
    "Learn how to discover the underlying groups (or \"clusters\") in a dataset. By the end of this chapter, you'll be clustering companies using their stock market prices, and distinguishing different species by clustering their measurements."
   ]
  },
  {
   "cell_type": "markdown",
   "id": "94506dd6-c48e-4839-b053-b758450ac8e9",
   "metadata": {},
   "source": [
    "### How many clusters?\n",
    "You are given an array points of size 300x2, where each row gives the (x, y) co-ordinates of a point on a map. Make a scatter plot of these points, and use the scatter plot to guess how many clusters there are.\n",
    "\n",
    "matplotlib.pyplot has already been imported as plt.\n",
    "\n",
    "- Create an array called xs that contains the values of points[:,0] - that is, column 0 of points.\n",
    "- Create an array called ys that contains the values of points[:,1] - that is, column 1 of points.\n",
    "- Make a scatter plot by passing xs and ys to the plt.scatter() function.\n",
    "- Call the plt.show() function to show your plot.\n",
    "- How many clusters do you see?"
   ]
  },
  {
   "cell_type": "code",
   "execution_count": null,
   "id": "80cd94ea-02ae-4f33-9784-88840a6a7660",
   "metadata": {},
   "outputs": [],
   "source": [
    "xs = points[:,0]\n",
    "ys = points[:,1]\n",
    "plt.scatter(xs, ys)\n",
    "plt.show() # 3 clusters"
   ]
  },
  {
   "cell_type": "markdown",
   "id": "76b9a295-2a1a-45ff-8bef-cb8118bcf75f",
   "metadata": {},
   "source": [
    "### Clustering 2D points\n",
    "From the scatter plot of the previous exercise, you saw that the points seem to separate into 3 clusters. You'll now create a KMeans model to find 3 clusters, and fit it to the data points from the previous exercise. After the model has been fit, you'll obtain the cluster labels for some new points using the .predict() method.\n",
    "\n",
    "You are given the array points from the previous exercise, and also an array new_points."
   ]
  },
  {
   "cell_type": "code",
   "execution_count": null,
   "id": "ab28d571-37d6-486d-a21f-ab3d2d699910",
   "metadata": {},
   "outputs": [],
   "source": [
    "# Import KMeans\n",
    "from sklearn.cluster import KMeans\n",
    "\n",
    "# Create a KMeans instance with 3 clusters: model\n",
    "model = KMeans(n_clusters=3)\n",
    "\n",
    "# Fit model to points\n",
    "model.fit(points)\n",
    "\n",
    "# Determine the cluster labels of new_points: labels\n",
    "labels = model.predict(new_points)\n",
    "\n",
    "# Print cluster labels of new_points\n",
    "print(labels)\n",
    "\n",
    "# [1 2 0 1 2 1 2 2 2 0 1 2 2 0 0 2 0 0 2 2 0 2 1 2 1 0 2 0 0 1 1 2 2 2 0 1 2\n",
    "#      2 1 2 0 1 1 0 1 2 0 0 2 2 2 2 0 0 1 1 0 0 0 1 1 2 2 2 1 2 0 2 1 0 1 1 1 2\n",
    "#      1 0 0 1 2 0 1 0 1 2 0 2 0 1 2 2 2 1 2 2 1 0 0 0 0 1 2 1 0 0 1 1 2 1 0 0 1\n",
    "#      0 0 0 2 2 2 2 0 0 2 1 2 0 2 1 0 2 0 0 2 0 2 0 1 2 1 1 2 0 1 2 1 1 0 2 2 1\n",
    "#      0 1 0 2 1 0 0 1 0 2 2 0 2 0 0 2 2 1 2 2 0 1 0 1 1 2 1 2 2 1 1 0 1 1 1 0 2\n",
    "#      2 1 0 1 0 0 2 2 2 1 2 2 2 0 0 1 2 1 1 1 0 2 2 2 2 2 2 0 0 2 0 0 0 0 2 0 0\n",
    "#      2 2 1 0 1 1 0 1 0 1 0 2 2 0 2 2 2 0 1 1 0 2 2 0 2 0 0 2 0 0 1 0 1 1 1 2 0\n",
    "#      0 0 1 2 1 0 1 0 0 2 1 1 1 0 2 2 2 1 2 0 0 2 1 1 0 1 1 0 1 2 1 0 0 0 0 2 0\n",
    "#      0 2 2 1]"
   ]
  },
  {
   "cell_type": "markdown",
   "id": "3291b7f2-8161-4851-b5a8-faff784eb60c",
   "metadata": {},
   "source": [
    "### Inspect your clustering\n",
    "Let's now inspect the clustering you performed in the previous exercise!\n",
    "\n",
    "A solution to the previous exercise has already run, so new_points is an array of points and labels is the array of their cluster labels."
   ]
  },
  {
   "cell_type": "code",
   "execution_count": null,
   "id": "321d913f-0c5f-473d-9607-a5a9fa82750c",
   "metadata": {},
   "outputs": [],
   "source": [
    "# Import pyplot\n",
    "import matplotlib.pyplot as plt\n",
    "\n",
    "# Assign the columns of new_points: xs and ys\n",
    "xs = new_points[:,0]\n",
    "ys = new_points[:,1]\n",
    "\n",
    "# Make a scatter plot of xs and ys, using labels to define the colors\n",
    "plt.scatter(xs, ys, c=labels, alpha=0.5)\n",
    "\n",
    "# Assign the cluster centers: centroids\n",
    "centroids = model.cluster_centers_\n",
    "\n",
    "# Assign the columns of centroids: centroids_x, centroids_y\n",
    "centroids_x = centroids[:,0]\n",
    "centroids_y = centroids[:,1]\n",
    "\n",
    "# Make a scatter plot of centroids_x and centroids_y\n",
    "plt.scatter(centroids_x, centroids_y, marker='D', s=50)\n",
    "plt.show()"
   ]
  },
  {
   "cell_type": "markdown",
   "id": "4b2b11e4-28bb-465d-987b-b92c3105cde5",
   "metadata": {},
   "source": [
    "### Note: Inertia measures clustering quality\n",
    "- measures how spread out the clusters are (lower-better)\n",
    "- distance from each sample to centroid of its cluster\n",
    "- after '.fit()', available as attribute 'intertia_'\n",
    "- k-means attempts to minimize intertia when choosing clusters"
   ]
  },
  {
   "cell_type": "markdown",
   "id": "f72ed934-4805-46f3-a36f-9adb802c72f6",
   "metadata": {},
   "source": [
    "### How many clusters of grain?\n",
    "In the video, you learned how to choose a good number of clusters for a dataset using the k-means inertia graph. You are given an array samples containing the measurements (such as area, perimeter, length, and several others) of samples of grain. What's a good number of clusters in this case?\n",
    "\n",
    "KMeans and PyPlot (plt) have already been imported for you.\n",
    "\n",
    "This dataset was sourced from the UCI Machine Learning Repository."
   ]
  },
  {
   "cell_type": "code",
   "execution_count": null,
   "id": "7ad50c2e-3843-42dd-8aa8-8bb55be4c197",
   "metadata": {},
   "outputs": [],
   "source": [
    "ks = range(1, 6)\n",
    "inertias = []\n",
    "\n",
    "for k in ks:\n",
    "    # Create a KMeans instance with k clusters: model\n",
    "    model = KMeans(n_clusters=k)\n",
    "    \n",
    "    # Fit model to samples\n",
    "    model.fit(samples)\n",
    "    \n",
    "    # Append the inertia to the list of inertias\n",
    "    inertias.append(model.inertia_)\n",
    "    \n",
    "# Plot ks vs inertias\n",
    "plt.plot(ks, inertias, '-o')\n",
    "plt.xlabel('number of clusters, k')\n",
    "plt.ylabel('inertia')\n",
    "plt.xticks(ks)\n",
    "plt.show()"
   ]
  },
  {
   "cell_type": "markdown",
   "id": "eae0760b-6dda-460a-b6bc-75aed2460581",
   "metadata": {},
   "source": [
    "### Evaluating the grain clustering\n",
    "In the previous exercise, you observed from the inertia plot that 3 is a good number of clusters for the grain data. In fact, the grain samples come from a mix of 3 different grain varieties: \"Kama\", \"Rosa\" and \"Canadian\". In this exercise, cluster the grain samples into three clusters, and compare the clusters to the grain varieties using a cross-tabulation.\n",
    "\n",
    "You have the array samples of grain samples, and a list varieties giving the grain variety for each sample. Pandas (pd) and KMeans have already been imported for you."
   ]
  },
  {
   "cell_type": "code",
   "execution_count": null,
   "id": "e49d3298-38d2-477c-ada1-369a4d008d2a",
   "metadata": {},
   "outputs": [],
   "source": [
    "# Create a KMeans model with 3 clusters: model\n",
    "model = KMeans(n_clusters=3)\n",
    "\n",
    "# Use fit_predict to fit model and obtain cluster labels: labels\n",
    "labels = model.fit_predict(samples)\n",
    "\n",
    "# Create a DataFrame with labels and varieties as columns: df\n",
    "df = pd.DataFrame({'labels': labels, 'varieties': varieties})\n",
    "\n",
    "# Create crosstab: ct\n",
    "ct = pd.crosstab(df['labels'], df['varieties'])\n",
    "\n",
    "# Display ct\n",
    "print(ct)\n",
    "\n",
    "# varieties  Canadian wheat  Kama wheat  Rosa wheat\n",
    "# labels                                           \n",
    "# 0                       0           1          60\n",
    "# 1                      68           9           0\n",
    "# 2                       2          60          10"
   ]
  },
  {
   "cell_type": "markdown",
   "id": "6690e55e-08bb-4570-a871-3c3a55d79f30",
   "metadata": {},
   "source": [
    "### Transforming features for better clusterings (Standardization)\n",
    "\n",
    "#### Scaling fish data for clustering\n",
    "You are given an array samples giving measurements of fish. Each row represents an individual fish. The measurements, such as weight in grams, length in centimeters, and the percentage ratio of height to length, have very different scales. In order to cluster this data effectively, you'll need to standardize these features first. In this exercise, you'll build a pipeline to standardize and cluster the data.\n",
    "\n",
    "These fish measurement data were sourced from the Journal of Statistics Education."
   ]
  },
  {
   "cell_type": "code",
   "execution_count": null,
   "id": "71a234f9-1741-4ff4-b040-ce0c806b094b",
   "metadata": {},
   "outputs": [],
   "source": [
    "# Perform the necessary imports\n",
    "from sklearn.pipeline import make_pipeline\n",
    "from sklearn.preprocessing import StandardScaler\n",
    "from sklearn.cluster import KMeans\n",
    "\n",
    "# Create scaler: scaler\n",
    "scaler = StandardScaler()\n",
    "\n",
    "# Create KMeans instance: kmeans\n",
    "kmeans = KMeans(n_clusters=4)\n",
    "\n",
    "# Create pipeline: pipeline\n",
    "pipeline = make_pipeline(scaler, kmeans)"
   ]
  },
  {
   "cell_type": "markdown",
   "id": "fa8c10ac-a17b-4c1d-bb8b-71a34fb7c8de",
   "metadata": {},
   "source": [
    "#### Clustering the fish data\n",
    "You'll now use your standardization and clustering pipeline from the previous exercise to cluster the fish by their measurements, and then create a cross-tabulation to compare the cluster labels with the fish species.\n",
    "\n",
    "As before, samples is the 2D array of fish measurements. Your pipeline is available as pipeline, and the species of every fish sample is given by the list species."
   ]
  },
  {
   "cell_type": "code",
   "execution_count": null,
   "id": "51130969-51d5-481b-9022-8ccce722347d",
   "metadata": {},
   "outputs": [],
   "source": [
    "# Import pandas\n",
    "import pandas as pd\n",
    "\n",
    "# Fit the pipeline to samples\n",
    "pipeline.fit(samples)\n",
    "\n",
    "# Calculate the cluster labels: labels\n",
    "labels = pipeline.predict(samples)\n",
    "\n",
    "# Create a DataFrame with labels and species as columns: df\n",
    "df = pd.DataFrame({'labels': labels, 'species': species})\n",
    "\n",
    "# Create crosstab: ct\n",
    "ct = pd.crosstab(df['labels'], df['species'])\n",
    "\n",
    "# Display ct\n",
    "print(ct)\n",
    "\n",
    "# species  Bream  Pike  Roach  Smelt\n",
    "# labels                            \n",
    "# 0            0     0      0     13\n",
    "# 1           33     0      1      0\n",
    "# 2            0    17      0      0\n",
    "# 3            1     0     19      1"
   ]
  },
  {
   "cell_type": "markdown",
   "id": "4f0cb6ee-ff2c-4c56-8d32-87b93cbb262a",
   "metadata": {},
   "source": [
    "### Clustering stocks using KMeans\n",
    "In this exercise, you'll cluster companies using their daily stock price movements (i.e. the dollar difference between the closing and opening prices for each trading day). You are given a NumPy array movements of daily price movements from 2010 to 2015 (obtained from Yahoo! Finance), where each row corresponds to a company, and each column corresponds to a trading day.\n",
    "\n",
    "Some stocks are more expensive than others. To account for this, include a Normalizer at the beginning of your pipeline. The Normalizer will separately transform each company's stock price to a relative scale before the clustering begins.\n",
    "\n",
    "Note that Normalizer() is different to StandardScaler(), which you used in the previous exercise. While StandardScaler() standardizes features (such as the features of the fish data from the previous exercise) by removing the mean and scaling to unit variance, Normalizer() rescales each sample - here, each company's stock price - independently of the other.\n",
    "\n",
    "KMeans and make_pipeline have already been imported for you."
   ]
  },
  {
   "cell_type": "code",
   "execution_count": null,
   "id": "ff9fa53a-0f53-45e7-9d14-8dc58bfc89f9",
   "metadata": {},
   "outputs": [],
   "source": [
    "# Import Normalizer\n",
    "from sklearn.preprocessing import Normalizer\n",
    "\n",
    "# Create a normalizer: normalizer\n",
    "normalizer = Normalizer()\n",
    "\n",
    "# Create a KMeans model with 10 clusters: kmeans\n",
    "kmeans = KMeans(n_clusters=10)\n",
    "\n",
    "# Make a pipeline chaining normalizer and kmeans: pipeline\n",
    "pipeline = make_pipeline(normalizer, kmeans)\n",
    "\n",
    "# Fit pipeline to the daily price movements\n",
    "pipeline.fit(movements)"
   ]
  },
  {
   "cell_type": "markdown",
   "id": "d159e627-9c38-4c0f-a579-e871c1e100c4",
   "metadata": {},
   "source": [
    "### Which stocks move together?\n",
    "In the previous exercise, you clustered companies by their daily stock price movements. So which company have stock prices that tend to change in the same way? You'll now inspect the cluster labels from your clustering to find out.\n",
    "\n",
    "Your solution to the previous exercise has already been run. Recall that you constructed a Pipeline pipeline containing a KMeans model and fit it to the NumPy array movements of daily stock movements. In addition, a list companies of the company names is available."
   ]
  },
  {
   "cell_type": "code",
   "execution_count": null,
   "id": "8d9c510b-d246-4136-95a1-3039838cd0da",
   "metadata": {},
   "outputs": [],
   "source": [
    "# Import pandas\n",
    "import pandas as pd\n",
    "\n",
    "# Predict the cluster labels: labels\n",
    "labels = pipeline.predict(movements)\n",
    "\n",
    "# Create a DataFrame aligning labels and companies: df\n",
    "df = pd.DataFrame({'labels': labels, 'companies': companies})\n",
    "\n",
    "# Display df sorted by cluster label\n",
    "print(df.sort_values('labels'))\n",
    "\n",
    "    #     labels                           companies\n",
    "    # 59       0                               Yahoo\n",
    "    # 15       0                                Ford\n",
    "    # 35       0                            Navistar\n",
    "    # 26       1                      JPMorgan Chase\n",
    "    # 16       1                   General Electrics\n",
    "    # 58       1                               Xerox\n",
    "    # 11       1                               Cisco\n",
    "    # 18       1                       Goldman Sachs\n",
    "    # 20       1                          Home Depot\n",
    "    # 5        1                     Bank of America\n",
    "    # 3        1                    American express\n",
    "    # 55       1                         Wells Fargo\n",
    "    # 1        1                                 AIG\n",
    "    # 38       2                               Pepsi\n",
    "    # 40       2                      Procter Gamble\n",
    "    # 28       2                           Coca Cola\n",
    "    # 27       2                      Kimberly-Clark\n",
    "    # 9        2                   Colgate-Palmolive\n",
    "    # 54       3                            Walgreen\n",
    "    # 36       3                    Northrop Grumman\n",
    "    # 29       3                     Lookheed Martin\n",
    "    # 4        3                              Boeing\n",
    "    # 0        4                               Apple\n",
    "    # 47       4                            Symantec\n",
    "    # 33       4                           Microsoft\n",
    "    # 32       4                                  3M\n",
    "    # 31       4                           McDonalds\n",
    "    # 30       4                          MasterCard\n",
    "    # 50       4  Taiwan Semiconductor Manufacturing\n",
    "    # 14       4                                Dell\n",
    "    # 17       4                     Google/Alphabet\n",
    "    # 24       4                               Intel\n",
    "    # 23       4                                 IBM\n",
    "    # 2        4                              Amazon\n",
    "    # 51       4                   Texas instruments\n",
    "    # 43       4                                 SAP\n",
    "    # 45       5                                Sony\n",
    "    # 48       5                              Toyota\n",
    "    # 21       5                               Honda\n",
    "    # 22       5                                  HP\n",
    "    # 34       5                          Mitsubishi\n",
    "    # 7        5                               Canon\n",
    "    # 56       6                            Wal-Mart\n",
    "    # 57       7                               Exxon\n",
    "    # 44       7                        Schlumberger\n",
    "    # 8        7                         Caterpillar\n",
    "    # 10       7                      ConocoPhillips\n",
    "    # 12       7                             Chevron\n",
    "    # 13       7                   DuPont de Nemours\n",
    "    # 53       7                       Valero Energy\n",
    "    # 39       8                              Pfizer\n",
    "    # 41       8                       Philip Morris\n",
    "    # 25       8                   Johnson & Johnson\n",
    "    # 49       9                               Total\n",
    "    # 46       9                      Sanofi-Aventis\n",
    "    # 37       9                            Novartis\n",
    "    # 42       9                   Royal Dutch Shell\n",
    "    # 19       9                     GlaxoSmithKline\n",
    "    # 52       9                            Unilever\n",
    "    # 6        9            British American Tobacco"
   ]
  },
  {
   "cell_type": "markdown",
   "id": "9b8622c4-4f94-4935-9d27-487218060ca8",
   "metadata": {},
   "source": [
    "## Visualization with Hierarchical Clustering and t-SNE\n",
    "\n",
    "In this chapter, you'll learn about two unsupervised learning techniques for data visualization, hierarchical clustering and t-SNE. Hierarchical clustering merges the data samples into ever-coarser clusters, yielding a tree visualization of the resulting cluster hierarchy. t-SNE maps the data samples into 2d space so that the proximity of the samples to one another can be visualized."
   ]
  },
  {
   "cell_type": "markdown",
   "id": "06435121-7dac-4f7e-a458-f73f5eb2f019",
   "metadata": {},
   "source": [
    "### Hierarchical clustering of the grain data\n",
    "In the video, you learned that the SciPy linkage() function performs hierarchical clustering on an array of samples. Use the linkage() function to obtain a hierarchical clustering of the grain samples, and use dendrogram() to visualize the result. A sample of the grain measurements is provided in the array samples, while the variety of each grain sample is given by the list varieties."
   ]
  },
  {
   "cell_type": "code",
   "execution_count": null,
   "id": "ba10f1f1-111f-42d1-a27f-0662cf56e2f7",
   "metadata": {},
   "outputs": [],
   "source": [
    "# Perform the necessary imports\n",
    "from scipy.cluster.hierarchy import linkage, dendrogram\n",
    "import matplotlib.pyplot as plt\n",
    "\n",
    "# Calculate the linkage: mergings\n",
    "mergings = linkage(samples, method='complete')\n",
    "\n",
    "# Plot the dendrogram, using varieties as labels\n",
    "dendrogram(mergings,\n",
    "           labels=varieties,\n",
    "           leaf_rotation=90,\n",
    "           leaf_font_size=6,\n",
    ")\n",
    "plt.show()"
   ]
  },
  {
   "cell_type": "markdown",
   "id": "94390863-4915-4693-80e9-603e4d6cf9a5",
   "metadata": {},
   "source": [
    "### Hierarchies of stocks\n",
    "In chapter 1, you used k-means clustering to cluster companies according to their stock price movements. Now, you'll perform hierarchical clustering of the companies. You are given a NumPy array of price movements movements, where the rows correspond to companies, and a list of the company names companies. SciPy hierarchical clustering doesn't fit into a sklearn pipeline, so you'll need to use the normalize() function from sklearn.preprocessing instead of Normalizer.\n",
    "\n",
    "linkage and dendrogram have already been imported from scipy.cluster.hierarchy, and PyPlot has been imported as plt."
   ]
  },
  {
   "cell_type": "code",
   "execution_count": null,
   "id": "826b182c-507f-46eb-abd4-40d03c0ad4b4",
   "metadata": {},
   "outputs": [],
   "source": [
    "# Import normalize\n",
    "from sklearn.preprocessing import normalize\n",
    "\n",
    "# Normalize the movements: normalized_movements\n",
    "normalized_movements = normalize(movements)\n",
    "\n",
    "# Calculate the linkage: mergings\n",
    "mergings = linkage(normalized_movements, method='complete')\n",
    "\n",
    "# Plot the dendrogram\n",
    "dendrogram(mergings,\n",
    "           labels=companies,\n",
    "           leaf_rotation=90,\n",
    "           leaf_font_size=6,\n",
    ")\n",
    "plt.show()"
   ]
  },
  {
   "cell_type": "markdown",
   "id": "b32b7cea-af19-4f8d-9548-1c54d315e0f1",
   "metadata": {},
   "source": [
    "### Different linkage, different hierarchical clustering!\n",
    "In the video, you saw a hierarchical clustering of the voting countries at the Eurovision song contest using 'complete' linkage. Now, perform a hierarchical clustering of the voting countries with 'single' linkage, and compare the resulting dendrogram with the one in the video. Different linkage, different hierarchical clustering!\n",
    "\n",
    "You are given an array samples. Each row corresponds to a voting country, and each column corresponds to a performance that was voted for. The list country_names gives the name of each voting country. This dataset was obtained from Eurovision."
   ]
  },
  {
   "cell_type": "code",
   "execution_count": null,
   "id": "0d589f85-3795-477d-a057-24aba4586eba",
   "metadata": {},
   "outputs": [],
   "source": [
    "# Perform the necessary imports\n",
    "import matplotlib.pyplot as plt\n",
    "from scipy.cluster.hierarchy import linkage, dendrogram\n",
    "\n",
    "# Calculate the linkage: mergings\n",
    "mergings = linkage(samples, method='single')\n",
    "\n",
    "# Plot the dendrogram\n",
    "dendrogram(\n",
    "    mergings,\n",
    "    labels=country_names,\n",
    "    leaf_rotation=90,\n",
    "    leaf_font_size=6\n",
    ")\n",
    "plt.show()"
   ]
  },
  {
   "cell_type": "markdown",
   "id": "e8273771-bafc-4c41-ac09-1be08356cb98",
   "metadata": {},
   "source": [
    "### Extracting the cluster labels\n",
    "In the previous exercise, you saw that the intermediate clustering of the grain samples at height 6 has 3 clusters. Now, use the fcluster() function to extract the cluster labels for this intermediate clustering, and compare the labels with the grain varieties using a cross-tabulation.\n",
    "\n",
    "The hierarchical clustering has already been performed and mergings is the result of the linkage() function. The list varieties gives the variety of each grain sample"
   ]
  },
  {
   "cell_type": "code",
   "execution_count": null,
   "id": "85547656-6c48-42bd-bc0a-f7292aae7f92",
   "metadata": {},
   "outputs": [],
   "source": [
    "# Perform the necessary imports\n",
    "import pandas as pd\n",
    "from scipy.cluster.hierarchy import fcluster\n",
    "\n",
    "# Use fcluster to extract labels: labels\n",
    "labels = fcluster(mergings, 6, criterion='distance')\n",
    "\n",
    "# Create a DataFrame with labels and varieties as columns: df\n",
    "df = pd.DataFrame({'labels': labels, 'varieties': varieties})\n",
    "\n",
    "# Create crosstab: ct\n",
    "ct = pd.crosstab(df['labels'], df['varieties'])\n",
    "\n",
    "# Display ct\n",
    "print(ct)"
   ]
  },
  {
   "cell_type": "markdown",
   "id": "f412dc12-4768-4df8-bffb-2093f88f0c22",
   "metadata": {},
   "source": [
    "### t-SNE visualization of grain dataset\n",
    "In the video, you saw t-SNE applied to the iris dataset. In this exercise, you'll apply t-SNE to the grain samples data and inspect the resulting t-SNE features using a scatter plot. You are given an array samples of grain samples and a list variety_numbers giving the variety number of each grain sample."
   ]
  },
  {
   "cell_type": "code",
   "execution_count": null,
   "id": "00c17313-a04a-4aee-9f3f-c3889fdb9a03",
   "metadata": {},
   "outputs": [],
   "source": [
    "# Import TSNE\n",
    "from sklearn.manifold import TSNE\n",
    "\n",
    "# Create a TSNE instance: model\n",
    "model = TSNE(learning_rate=200)\n",
    "\n",
    "# Apply fit_transform to samples: tsne_features\n",
    "tsne_features = model.fit_transform(samples)\n",
    "\n",
    "# Select the 0th feature: xs\n",
    "xs = tsne_features[:,0]\n",
    "\n",
    "# Select the 1st feature: ys\n",
    "ys = tsne_features[:,1]\n",
    "\n",
    "# Scatter plot, coloring by variety_numbers\n",
    "plt.scatter(xs, ys, c=variety_numbers)\n",
    "plt.show()"
   ]
  },
  {
   "cell_type": "markdown",
   "id": "8ada2bf5-d84d-413d-b0e5-f2665f05a4ad",
   "metadata": {},
   "source": [
    "### A t-SNE map of the stock market\n",
    "t-SNE provides great visualizations when the individual samples can be labeled. In this exercise, you'll apply t-SNE to the company stock price data. A scatter plot of the resulting t-SNE features, labeled by the company names, gives you a map of the stock market! The stock price movements for each company are available as the array normalized_movements (these have already been normalized for you). The list companies gives the name of each company. PyPlot (plt) has been imported for you."
   ]
  },
  {
   "cell_type": "code",
   "execution_count": null,
   "id": "fae93aab-6d16-45bc-96f4-a0cef23f246d",
   "metadata": {},
   "outputs": [],
   "source": [
    "# Import TSNE\n",
    "from sklearn.manifold import TSNE\n",
    "\n",
    "# Create a TSNE instance: model\n",
    "model = TSNE(learning_rate=50)\n",
    "\n",
    "# Apply fit_transform to normalized_movements: tsne_features\n",
    "tsne_features = model.fit_transform(normalized_movements)\n",
    "\n",
    "# Select the 0th feature: xs\n",
    "xs = tsne_features[:,0]\n",
    "\n",
    "# Select the 1th feature: ys\n",
    "ys = tsne_features[:,1]\n",
    "\n",
    "# Scatter plot\n",
    "plt.scatter(xs, ys, alpha=0.5)\n",
    "\n",
    "# Annotate the points\n",
    "for x, y, company in zip(xs, ys, companies):\n",
    "    plt.annotate(company, (x, y), fontsize=5, alpha=0.75)\n",
    "plt.show()"
   ]
  },
  {
   "cell_type": "markdown",
   "id": "219a6764-9c72-4a4e-9994-4c8931442be5",
   "metadata": {},
   "source": [
    "## Decorrelating Your Data and Dimension Reduction\n",
    "\n",
    "Dimension reduction summarizes a dataset using its common occuring patterns. In this chapter, you'll learn about the most fundamental of dimension reduction techniques, \"Principal Component Analysis\" (\"PCA\"). PCA is often used before supervised learning to improve model performance and generalization. It can also be useful for unsupervised learning. For example, you'll employ a variant of PCA will allow you to cluster Wikipedia articles by their content!"
   ]
  },
  {
   "cell_type": "markdown",
   "id": "79039b65-a120-41da-9e34-0702a757f164",
   "metadata": {},
   "source": [
    "### Correlated data in nature\n",
    "You are given an array grains giving the width and length of samples of grain. You suspect that width and length will be correlated. To confirm this, make a scatter plot of width vs length and measure their Pearson correlation."
   ]
  },
  {
   "cell_type": "code",
   "execution_count": null,
   "id": "c4632a3a-1678-41a9-b1f1-0b9b8cf9ac10",
   "metadata": {},
   "outputs": [],
   "source": [
    "# Perform the necessary imports\n",
    "import matplotlib.pyplot as plt\n",
    "from scipy.stats import pearsonr\n",
    "\n",
    "# Assign the 0th column of grains: width\n",
    "width = grains[:,0]\n",
    "\n",
    "# Assign the 1st column of grains: length\n",
    "length = grains[:,1]\n",
    "\n",
    "# Scatter plot width vs length\n",
    "plt.scatter(width, length)\n",
    "plt.axis('equal')\n",
    "plt.show()\n",
    "\n",
    "# Calculate the Pearson correlation\n",
    "correlation, pvalue = pearsonr(width, length)\n",
    "\n",
    "# Display the correlation\n",
    "print(correlation)"
   ]
  },
  {
   "cell_type": "markdown",
   "id": "6beb894a-c193-43d6-8811-ea6484d05807",
   "metadata": {},
   "source": [
    "### Decorrelating the grain measurements with PCA\n",
    "You observed in the previous exercise that the width and length measurements of the grain are correlated. Now, you'll use PCA to decorrelate these measurements, then plot the decorrelated points and measure their Pearson correlation."
   ]
  },
  {
   "cell_type": "code",
   "execution_count": null,
   "id": "ac9693a6-7da7-4a3c-8cab-501a818e0fbe",
   "metadata": {},
   "outputs": [],
   "source": [
    "# Import PCA\n",
    "from sklearn.decomposition import PCA\n",
    "\n",
    "# Create PCA instance: model\n",
    "model = PCA()\n",
    "\n",
    "# Apply the fit_transform method of model to grains: pca_features\n",
    "pca_features = model.fit_transform(grains)\n",
    "\n",
    "# Assign 0th column of pca_features: xs\n",
    "xs = pca_features[:,0]\n",
    "\n",
    "# Assign 1st column of pca_features: ys\n",
    "ys = pca_features[:,1]\n",
    "\n",
    "# Scatter plot xs vs ys\n",
    "plt.scatter(xs, ys)\n",
    "plt.axis('equal')\n",
    "plt.show()\n",
    "\n",
    "# Calculate the Pearson correlation of xs and ys\n",
    "correlation, pvalue = pearsonr(xs, ys)\n",
    "\n",
    "# Display the correlation\n",
    "print(correlation)"
   ]
  },
  {
   "cell_type": "markdown",
   "id": "a3736581-2468-4671-bb58-c35427ddb150",
   "metadata": {},
   "source": [
    "### The first principal component\n",
    "The first principal component of the data is the direction in which the data varies the most. In this exercise, your job is to use PCA to find the first principal component of the length and width measurements of the grain samples, and represent it as an arrow on the scatter plot.\n",
    "\n",
    "The array grains gives the length and width of the grain samples. PyPlot (plt) and PCA have already been imported for you."
   ]
  },
  {
   "cell_type": "code",
   "execution_count": null,
   "id": "973aa478-6a9e-4a10-926b-de845717d43f",
   "metadata": {},
   "outputs": [],
   "source": [
    "# Make a scatter plot of the untransformed points\n",
    "plt.scatter(grains[:,0], grains[:,1])\n",
    "\n",
    "# Create a PCA instance: model\n",
    "model = PCA()\n",
    "\n",
    "# Fit model to points\n",
    "pca_features = model.fit(grains)\n",
    "\n",
    "# Get the mean of the grain samples: mean\n",
    "mean = model.mean_\n",
    "\n",
    "# Get the first principal component: first_pc\n",
    "first_pc = model.components_[0,:]\n",
    "\n",
    "# Plot first_pc as an arrow, starting at mean\n",
    "plt.arrow(mean[0], mean[1], first_pc[0], first_pc[1], color='red', width=0.01)\n",
    "\n",
    "# Keep axes on same scale\n",
    "plt.axis('equal')\n",
    "plt.show()"
   ]
  },
  {
   "cell_type": "markdown",
   "id": "2e553e83-3bf1-40f0-97a4-1fd52f325a0b",
   "metadata": {},
   "source": [
    "### Variance of the PCA features\n",
    "The fish dataset is 6-dimensional. But what is its intrinsic dimension? Make a plot of the variances of the PCA features to find out. As before, samples is a 2D array, where each row represents a fish. You'll need to standardize the features first."
   ]
  },
  {
   "cell_type": "code",
   "execution_count": null,
   "id": "520410c3-dee2-448f-afbc-5dcca3f4ea96",
   "metadata": {},
   "outputs": [],
   "source": [
    "# Perform the necessary imports\n",
    "from sklearn.decomposition import PCA\n",
    "from sklearn.preprocessing import StandardScaler\n",
    "from sklearn.pipeline import make_pipeline\n",
    "import matplotlib.pyplot as plt\n",
    "\n",
    "# Create scaler: scaler\n",
    "scaler = StandardScaler()\n",
    "\n",
    "# Create a PCA instance: pca\n",
    "pca = PCA()\n",
    "\n",
    "# Create pipeline: pipeline\n",
    "pipeline = make_pipeline(scaler,pca)\n",
    "\n",
    "# Fit the pipeline to 'samples'\n",
    "pipeline.fit(samples)\n",
    "\n",
    "# Plot the explained variances\n",
    "features = range(pca.n_components_)\n",
    "plt.bar(features, pca.explained_variance_)\n",
    "plt.xlabel('PCA feature')\n",
    "plt.ylabel('variance')\n",
    "plt.xticks(features)\n",
    "plt.show()"
   ]
  },
  {
   "cell_type": "markdown",
   "id": "83abcbbb-a555-4466-afdc-6667d50a1ba2",
   "metadata": {},
   "source": [
    "### Dimension reduction of the fish measurements\n",
    "In a previous exercise, you saw that 2 was a reasonable choice for the \"intrinsic dimension\" of the fish measurements. Now use PCA for dimensionality reduction of the fish measurements, retaining only the 2 most important components.\n",
    "\n",
    "The fish measurements have already been scaled for you, and are available as scaled_samples."
   ]
  },
  {
   "cell_type": "code",
   "execution_count": null,
   "id": "54208a5b-3288-4576-aba9-82c150a0ccf5",
   "metadata": {},
   "outputs": [],
   "source": [
    "# Import PCA\n",
    "from sklearn.decomposition import PCA\n",
    "\n",
    "# Create a PCA model with 2 components: pca\n",
    "pca = PCA(n_components=2)\n",
    "\n",
    "# Fit the PCA instance to the scaled samples\n",
    "pca.fit(scaled_samples)\n",
    "\n",
    "# Transform the scaled samples: pca_features\n",
    "pca_features = pca.transform(scaled_samples)\n",
    "\n",
    "# Print the shape of pca_features\n",
    "print(pca_features.shape)"
   ]
  },
  {
   "cell_type": "markdown",
   "id": "68c2f8ec-385a-4327-9231-fefc285b2a6c",
   "metadata": {},
   "source": [
    "### A tf-idf word-frequency array\n",
    "In this exercise, you'll create a tf-idf word frequency array for a toy collection of documents. For this, use the TfidfVectorizer from sklearn. It transforms a list of documents into a word frequency array, which it outputs as a csr_matrix. It has fit() and transform() methods like other sklearn objects.\n",
    "\n",
    "You are given a list documents of toy documents about pets."
   ]
  },
  {
   "cell_type": "code",
   "execution_count": null,
   "id": "46284ffb-9792-41f1-96c7-e4387d0f3a6e",
   "metadata": {},
   "outputs": [],
   "source": [
    "# Import TfidfVectorizer\n",
    "from sklearn.feature_extraction.text import TfidfVectorizer\n",
    "\n",
    "# Create a TfidfVectorizer: tfidf\n",
    "tfidf = TfidfVectorizer() \n",
    "\n",
    "# Apply fit_transform to document: csr_mat\n",
    "csr_mat = tfidf.fit_transform(documents)\n",
    "\n",
    "# Print result of toarray() method\n",
    "print(csr_mat.toarray())\n",
    "\n",
    "# Get the words: words\n",
    "words = tfidf.get_feature_names()\n",
    "\n",
    "# Print words\n",
    "print(words)"
   ]
  },
  {
   "cell_type": "markdown",
   "id": "3baece7c-39b9-4dd3-b85e-ebda37228a31",
   "metadata": {},
   "source": [
    "### Clustering Wikipedia part I\n",
    "You saw in the video that TruncatedSVD is able to perform PCA on sparse arrays in csr_matrix format, such as word-frequency arrays. Combine your knowledge of TruncatedSVD and k-means to cluster some popular pages from Wikipedia. In this exercise, build the pipeline. In the next exercise, you'll apply it to the word-frequency array of some Wikipedia articles.\n",
    "\n",
    "Create a Pipeline object consisting of a TruncatedSVD followed by KMeans. (This time, we've precomputed the word-frequency matrix for you, so there's no need for a TfidfVectorizer).\n",
    "\n",
    "The Wikipedia dataset you will be working with was obtained from here."
   ]
  },
  {
   "cell_type": "code",
   "execution_count": null,
   "id": "5b684c7e-2936-438b-964e-3ac9587ca556",
   "metadata": {},
   "outputs": [],
   "source": [
    "# Perform the necessary imports\n",
    "from sklearn.decomposition import TruncatedSVD\n",
    "from sklearn.cluster import KMeans\n",
    "from sklearn.pipeline import make_pipeline\n",
    "\n",
    "# Create a TruncatedSVD instance: svd\n",
    "svd = TruncatedSVD(n_components=50)\n",
    "\n",
    "# Create a KMeans instance: kmeans\n",
    "kmeans = KMeans(n_clusters=6)\n",
    "\n",
    "# Create a pipeline: pipeline\n",
    "pipeline = make_pipeline(svd, kmeans)"
   ]
  },
  {
   "cell_type": "markdown",
   "id": "da2206f1-86f9-41d2-aeed-364bfa6e3fe7",
   "metadata": {},
   "source": [
    "### Clustering Wikipedia part II\n",
    "It is now time to put your pipeline from the previous exercise to work! You are given an array articles of tf-idf word-frequencies of some popular Wikipedia articles, and a list titles of their titles. Use your pipeline to cluster the Wikipedia articles.\n",
    "\n",
    "A solution to the previous exercise has been pre-loaded for you, so a Pipeline pipeline chaining TruncatedSVD with KMeans is available."
   ]
  },
  {
   "cell_type": "code",
   "execution_count": null,
   "id": "9784b93f-84a0-46f8-8a30-fd160d3fc1a7",
   "metadata": {},
   "outputs": [],
   "source": [
    "# Import pandas\n",
    "import pandas as pd\n",
    "\n",
    "# Fit the pipeline to articles\n",
    "pipeline.fit(articles)\n",
    "\n",
    "# Calculate the cluster labels: labels\n",
    "labels = pipeline.predict(articles)\n",
    "\n",
    "# Create a DataFrame aligning labels and titles: df\n",
    "df = pd.DataFrame({'label': labels, 'article': titles})\n",
    "\n",
    "# Display df sorted by cluster label\n",
    "print(df.sort_values('label'))\n",
    "\n",
    "    #     label                                        article\n",
    "    # 59      0                                    Adam Levine\n",
    "    # 57      0                          Red Hot Chili Peppers\n",
    "    # 56      0                                       Skrillex\n",
    "    # 55      0                                  Black Sabbath\n",
    "    # 54      0                                 Arctic Monkeys\n",
    "    # 53      0                                   Stevie Nicks\n",
    "    # 52      0                                     The Wanted\n",
    "    # 51      0                                     Nate Ruess\n",
    "    # 50      0                                   Chad Kroeger\n",
    "    # 58      0                                         Sepsis\n",
    "    # 30      1                  France national football team\n",
    "    # 31      1                              Cristiano Ronaldo\n",
    "    # 32      1                                   Arsenal F.C.\n",
    "    # 33      1                                 Radamel Falcao\n",
    "    # 37      1                                       Football\n",
    "    # 35      1                Colombia national football team\n",
    "    # 36      1              2014 FIFA World Cup qualification\n",
    "    # 38      1                                         Neymar\n",
    "    # 39      1                                  Franck Ribéry\n",
    "    # 34      1                             Zlatan Ibrahimović\n",
    "    # 26      2                                     Mila Kunis\n",
    "    # 28      2                                  Anne Hathaway\n",
    "    # 27      2                                 Dakota Fanning\n",
    "    # 25      2                                  Russell Crowe\n",
    "    # 29      2                               Jennifer Aniston\n",
    "    # 23      2                           Catherine Zeta-Jones\n",
    "    # 22      2                              Denzel Washington\n",
    "    # 21      2                             Michael Fassbender\n",
    "    # 20      2                                 Angelina Jolie\n",
    "    # 24      2                                   Jessica Biel\n",
    "    # 10      3                                 Global warming\n",
    "    # 11      3       Nationally Appropriate Mitigation Action\n",
    "    # 13      3                               Connie Hedegaard\n",
    "    # 14      3                                 Climate change\n",
    "    # 12      3                                   Nigel Lawson\n",
    "    # 16      3                                        350.org\n",
    "    # 17      3  Greenhouse gas emissions by the United States\n",
    "    # 18      3  2010 United Nations Climate Change Conference\n",
    "    # 19      3  2007 United Nations Climate Change Conference\n",
    "    # 15      3                                 Kyoto Protocol\n",
    "    # 8       4                                        Firefox\n",
    "    # 1       4                                 Alexa Internet\n",
    "    # 2       4                              Internet Explorer\n",
    "    # 3       4                                    HTTP cookie\n",
    "    # 4       4                                  Google Search\n",
    "    # 5       4                                         Tumblr\n",
    "    # 6       4                    Hypertext Transfer Protocol\n",
    "    # 7       4                                  Social search\n",
    "    # 49      4                                       Lymphoma\n",
    "    # 42      4                                    Doxycycline\n",
    "    # 47      4                                          Fever\n",
    "    # 46      4                                     Prednisone\n",
    "    # 44      4                                           Gout\n",
    "    # 43      4                                       Leukemia\n",
    "    # 9       4                                       LinkedIn\n",
    "    # 48      4                                     Gabapentin\n",
    "    # 0       4                                       HTTP 404\n",
    "    # 45      5                                    Hepatitis C\n",
    "    # 41      5                                    Hepatitis B\n",
    "    # 40      5                                    Tonsillitis"
   ]
  },
  {
   "cell_type": "markdown",
   "id": "bce8b2a1-f95b-4823-b99c-7b60286876f5",
   "metadata": {},
   "source": [
    "## Discovering Interpretable Features\n",
    "In this chapter, you'll learn about a dimension reduction technique called \"Non-negative matrix factorization\" (\"NMF\") that expresses samples as combinations of interpretable parts. For example, it expresses documents as combinations of topics, and images in terms of commonly occurring visual patterns. You'll also learn to use NMF to build recommender systems that can find you similar articles to read, or musical artists that match your listening history!"
   ]
  },
  {
   "cell_type": "markdown",
   "id": "8620c046-e6dd-4c8c-b471-f4f05f4d9b2b",
   "metadata": {},
   "source": [
    "### NMF applied to Wikipedia articles\n",
    "In the video, you saw NMF applied to transform a toy word-frequency array. Now it's your turn to apply NMF, this time using the tf-idf word-frequency array of Wikipedia articles, given as a csr matrix articles. Here, fit the model and transform the articles. In the next exercise, you'll explore the result."
   ]
  },
  {
   "cell_type": "code",
   "execution_count": null,
   "id": "a212aecf-1203-406e-9efc-c17cb67854d0",
   "metadata": {},
   "outputs": [],
   "source": [
    "# Import NMF\n",
    "from sklearn.decomposition import NMF\n",
    "\n",
    "# Create an NMF instance: model\n",
    "model = decomposition.NMF(6)\n",
    "\n",
    "# Fit the model to articles\n",
    "model.fit(articles)\n",
    "\n",
    "# Transform the articles: nmf_features\n",
    "nmf_features = model.transform(articles)\n",
    "\n",
    "# Print the NMF features\n",
    "print(nmf_features.round(2))"
   ]
  },
  {
   "cell_type": "markdown",
   "id": "50782676-8eae-4b06-8252-9eeb24160657",
   "metadata": {},
   "source": [
    "### NMF features of the Wikipedia articles\n",
    "Now you will explore the NMF features you created in the previous exercise. A solution to the previous exercise has been pre-loaded, so the array nmf_features is available. Also available is a list titles giving the title of each Wikipedia article.\n",
    "\n",
    "When investigating the features, notice that for both actors, the NMF feature 3 has by far the highest value. This means that both articles are reconstructed using mainly the 3rd NMF component. In the next video, you'll see why: NMF components represent topics (for instance, acting!)."
   ]
  },
  {
   "cell_type": "code",
   "execution_count": null,
   "id": "bf735183-d11c-4126-9e66-ecbe3daa10ee",
   "metadata": {},
   "outputs": [],
   "source": [
    "# Import pandas\n",
    "import pandas as pd\n",
    "\n",
    "# Create a pandas DataFrame: df\n",
    "df = pd.DataFrame(nmf_features, index=titles)\n",
    "\n",
    "# Print the row for 'Anne Hathaway'\n",
    "print(df.loc['Anne Hathaway'])\n",
    "\n",
    "# Print the row for 'Denzel Washington'\n",
    "print(df.loc['Denzel Washington'])"
   ]
  },
  {
   "cell_type": "markdown",
   "id": "7ed322ec-5261-472e-828d-3aae384875ec",
   "metadata": {},
   "source": [
    "### NMF learns topics of documents\n",
    "In the video, you learned when NMF is applied to documents, the components correspond to topics of documents, and the NMF features reconstruct the documents from the topics. Verify this for yourself for the NMF model that you built earlier using the Wikipedia articles. Previously, you saw that the 3rd NMF feature value was high for the articles about actors Anne Hathaway and Denzel Washington. In this exercise, identify the topic of the corresponding NMF component.\n",
    "\n",
    "The NMF model you built earlier is available as model, while words is a list of the words that label the columns of the word-frequency array.\n",
    "\n",
    "After you are done, take a moment to recognize the topic that the articles about Anne Hathaway and Denzel Washington have in common!"
   ]
  },
  {
   "cell_type": "code",
   "execution_count": null,
   "id": "f6e6664f-3373-4e0e-ab65-83fa64d70748",
   "metadata": {},
   "outputs": [],
   "source": [
    "# Import pandas\n",
    "import pandas as pd\n",
    "\n",
    "# Create a DataFrame: components_df\n",
    "components_df = pd.DataFrame(model.components_, columns=words)\n",
    "\n",
    "# Print the shape of the DataFrame\n",
    "print(components_df.shape)\n",
    "\n",
    "# Select row 3: component\n",
    "component = components_df.iloc[3]\n",
    "\n",
    "# Print result of nlargest\n",
    "print(component.nlargest())"
   ]
  },
  {
   "cell_type": "markdown",
   "id": "c50b6b9b-f712-4286-ad90-172cdc1c74d5",
   "metadata": {},
   "source": [
    "### Explore the LED digits dataset\n",
    "In the following exercises, you'll use NMF to decompose grayscale images into their commonly occurring patterns. Firstly, explore the image dataset and see how it is encoded as an array. You are given 100 images as a 2D array samples, where each row represents a single 13x8 image. The images in your dataset are pictures of a LED digital display."
   ]
  },
  {
   "cell_type": "code",
   "execution_count": null,
   "id": "d2ebe357-c166-4684-9e05-f02d76195c1f",
   "metadata": {},
   "outputs": [],
   "source": [
    "# Import pyplot\n",
    "from matplotlib import pyplot as plt\n",
    "\n",
    "# Select the 0th row: digit\n",
    "digit = samples[0,:]\n",
    "\n",
    "# Print digit\n",
    "print(digit)\n",
    "\n",
    "# Reshape digit to a 13x8 array: bitmap\n",
    "bitmap = digit.reshape(13, 8)\n",
    "\n",
    "# Print bitmap\n",
    "print(bitmap)\n",
    "\n",
    "# Use plt.imshow to display bitmap\n",
    "plt.imshow(bitmap, cmap='gray', interpolation='nearest')\n",
    "plt.colorbar()\n",
    "plt.show()"
   ]
  },
  {
   "cell_type": "markdown",
   "id": "6fbda679-8e9d-48a8-b43d-40270ee51462",
   "metadata": {},
   "source": [
    "### NMF learns the parts of images\n",
    "Now use what you've learned about NMF to decompose the digits dataset. You are again given the digit images as a 2D array samples. This time, you are also provided with a function show_as_image() that displays the image encoded by any 1D array:\n",
    "> def show_as_image(sample):\n",
    "> \n",
    ">   bitmap = sample.reshape((13, 8))\n",
    "> \n",
    ">   plt.figure()\n",
    "> \n",
    ">   plt.imshow(bitmap, cmap='gray', interpolation='nearest')\n",
    "> \n",
    ">   plt.colorbar()\n",
    "> \n",
    ">   plt.show()\n",
    "\n",
    "After you are done, take a moment to look through the plots and notice how NMF has expressed the digit as a sum of the components!"
   ]
  },
  {
   "cell_type": "code",
   "execution_count": null,
   "id": "5e8a2ec3-6651-49ca-81a7-a04e6e617d49",
   "metadata": {},
   "outputs": [],
   "source": [
    "# Import NMF\n",
    "from sklearn.decomposition import NMF\n",
    "\n",
    "# Create an NMF model: model\n",
    "model = NMF(7)\n",
    "\n",
    "# Apply fit_transform to samples: features\n",
    "features = model.fit_transform(samples)\n",
    "\n",
    "# Call show_as_image on each component\n",
    "for component in model.components_:\n",
    "    show_as_image(component)\n",
    "\n",
    "# Select the 0th row of features: digit_features\n",
    "digit_features = features[0,:]\n",
    "\n",
    "# Print digit_features\n",
    "print(digit_features)"
   ]
  },
  {
   "cell_type": "markdown",
   "id": "eb73eb64-65be-4019-a3ad-acbc00a1c98a",
   "metadata": {},
   "source": [
    "### PCA doesn't learn parts\n",
    "Unlike NMF, PCA doesn't learn the parts of things. Its components do not correspond to topics (in the case of documents) or to parts of images, when trained on images. Verify this for yourself by inspecting the components of a PCA model fit to the dataset of LED digit images from the previous exercise. The images are available as a 2D array samples. Also available is a modified version of the show_as_image() function which colors a pixel red if the value is negative.\n",
    "\n",
    "After submitting the answer, notice that the components of PCA do not represent meaningful parts of images of LED digits!"
   ]
  },
  {
   "cell_type": "code",
   "execution_count": null,
   "id": "a4910e5e-7f69-4b56-ac0b-ca0207f7edac",
   "metadata": {},
   "outputs": [],
   "source": [
    "# Import PCA\n",
    "from sklearn.decomposition import PCA\n",
    "\n",
    "# Create a PCA instance: model\n",
    "model = PCA(7)\n",
    "\n",
    "# Apply fit_transform to samples: features\n",
    "features = model.fit_transform(samples)\n",
    "\n",
    "# Call show_as_image on each component\n",
    "for component in model.components_:\n",
    "    show_as_image(component)"
   ]
  },
  {
   "cell_type": "markdown",
   "id": "5b717f6e-28e3-4b8a-aebf-b34fc006bbf8",
   "metadata": {},
   "source": [
    "### Which articles are similar to 'Cristiano Ronaldo'?\n",
    "In the video, you learned how to use NMF features and the cosine similarity to find similar articles. Apply this to your NMF model for popular Wikipedia articles, by finding the articles most similar to the article about the footballer Cristiano Ronaldo. The NMF features you obtained earlier are available as nmf_features, while titles is a list of the article titles."
   ]
  },
  {
   "cell_type": "code",
   "execution_count": null,
   "id": "fcf9a62c-deee-4448-847a-8e8956706029",
   "metadata": {},
   "outputs": [],
   "source": [
    "# Perform the necessary imports\n",
    "import pandas as pd\n",
    "from sklearn.preprocessing import normalize\n",
    "\n",
    "# Normalize the NMF features: norm_features\n",
    "norm_features = normalize(nmf_features)\n",
    "\n",
    "# Create a DataFrame: df\n",
    "df = pd.DataFrame(norm_features, index=titles)\n",
    "\n",
    "# Select the row corresponding to 'Cristiano Ronaldo': article\n",
    "article = df.loc['Cristiano Ronaldo']\n",
    "\n",
    "# Compute the dot products: similarities\n",
    "similarities = df.dot(article)\n",
    "\n",
    "# Display those with the largest cosine similarity\n",
    "print(similarities.nlargest())"
   ]
  },
  {
   "cell_type": "markdown",
   "id": "b61072b0-8c41-42d3-a257-6b7b954ebc1a",
   "metadata": {},
   "source": [
    "### Recommend musical artists part I\n",
    "In this exercise and the next, you'll use what you've learned about NMF to recommend popular music artists! You are given a sparse array artists whose rows correspond to artists and whose columns correspond to users. The entries give the number of times each artist was listened to by each user.\n",
    "\n",
    "In this exercise, build a pipeline and transform the array into normalized NMF features. The first step in the pipeline, MaxAbsScaler, transforms the data so that all users have the same influence on the model, regardless of how many different artists they've listened to. In the next exercise, you'll use the resulting normalized NMF features for recommendation!"
   ]
  },
  {
   "cell_type": "code",
   "execution_count": null,
   "id": "ff632969-ddad-4218-af94-31b1023383b9",
   "metadata": {},
   "outputs": [],
   "source": [
    "# Perform the necessary imports\n",
    "from sklearn.decomposition import NMF\n",
    "from sklearn.preprocessing import Normalizer, MaxAbsScaler\n",
    "from sklearn.pipeline import make_pipeline\n",
    "\n",
    "# Create a MaxAbsScaler: scaler\n",
    "scaler = MaxAbsScaler()\n",
    "\n",
    "# Create an NMF model: nmf\n",
    "nmf = NMF(20)\n",
    "\n",
    "# Create a Normalizer: normalizer\n",
    "normalizer = Normalizer()\n",
    "\n",
    "# Create a pipeline: pipeline\n",
    "pipeline = make_pipeline(scaler, nmf, normalizer)\n",
    "\n",
    "# Apply fit_transform to artists: norm_features\n",
    "norm_features = pipeline.fit_transform(artists)\n"
   ]
  },
  {
   "cell_type": "markdown",
   "id": "bd038ac2-c5af-4c26-91d7-546c8dc94dab",
   "metadata": {},
   "source": [
    "### Recommend musical artists part II\n",
    "Suppose you were a big fan of Bruce Springsteen - which other musical artists might you like? Use your NMF features from the previous exercise and the cosine similarity to find similar musical artists. A solution to the previous exercise has been run, so norm_features is an array containing the normalized NMF features as rows. The names of the musical artists are available as the list artist_names."
   ]
  },
  {
   "cell_type": "code",
   "execution_count": null,
   "id": "c648b629-ad2e-477e-9635-fa8cd1a23485",
   "metadata": {},
   "outputs": [],
   "source": [
    "# Import pandas\n",
    "import pandas as pd\n",
    "\n",
    "# Create a DataFrame: df\n",
    "df = pd.DataFrame(norm_features, index=artist_names)\n",
    "\n",
    "# Select row of 'Bruce Springsteen': artist\n",
    "artist = df.loc['Bruce Springsteen']\n",
    "\n",
    "# Compute cosine similarities: similarities\n",
    "similarities = df.dot(artist)\n",
    "\n",
    "# Display those with highest cosine similarity\n",
    "print(similarities.nlargest())"
   ]
  }
 ],
 "metadata": {
  "kernelspec": {
   "display_name": "Python 3 (ipykernel)",
   "language": "python",
   "name": "python3"
  },
  "language_info": {
   "codemirror_mode": {
    "name": "ipython",
    "version": 3
   },
   "file_extension": ".py",
   "mimetype": "text/x-python",
   "name": "python",
   "nbconvert_exporter": "python",
   "pygments_lexer": "ipython3",
   "version": "3.11.7"
  }
 },
 "nbformat": 4,
 "nbformat_minor": 5
}
